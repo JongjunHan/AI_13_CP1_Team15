{
  "nbformat": 4,
  "nbformat_minor": 0,
  "metadata": {
    "colab": {
      "private_outputs": true,
      "provenance": [],
      "machine_shape": "hm"
    },
    "kernelspec": {
      "name": "python3",
      "display_name": "Python 3"
    },
    "language_info": {
      "name": "python"
    },
    "gpuClass": "standard"
  },
  "cells": [
    {
      "cell_type": "code",
      "execution_count": null,
      "metadata": {
        "id": "rsw3sr4oKRa1"
      },
      "outputs": [],
      "source": [
        "# from google.colab import drive\n",
        "# drive.mount('/content/gdrive')"
      ]
    },
    {
      "cell_type": "code",
      "source": [
        "import pandas as pd"
      ],
      "metadata": {
        "id": "_H52QRjPS0gW"
      },
      "execution_count": null,
      "outputs": []
    },
    {
      "cell_type": "code",
      "source": [
        "df1 = pd.read_csv('/content/gdrive/MyDrive/ASOS/CSV/TRAIN.csv', encoding = 'UTF-8') # 여기 파일들은 기존에 드렸던 TRAIN, TEST csv 파일로 진행했었슴다\n",
        "df2 = pd.read_csv('/content/gdrive/MyDrive/ASOS/CSV/TEST.csv', encoding = 'UTF-8')"
      ],
      "metadata": {
        "id": "E9rothClb-AI"
      },
      "execution_count": null,
      "outputs": []
    },
    {
      "cell_type": "code",
      "source": [
        "df1['SPI'].unique()"
      ],
      "metadata": {
        "id": "vKXjXGI6gtmA"
      },
      "execution_count": null,
      "outputs": []
    },
    {
      "cell_type": "code",
      "source": [
        "df1['SPI'].value_counts()"
      ],
      "metadata": {
        "id": "5XEwzPJFlTvW"
      },
      "execution_count": null,
      "outputs": []
    },
    {
      "cell_type": "code",
      "source": [
        "df1"
      ],
      "metadata": {
        "id": "mcHni7Yvw_tc"
      },
      "execution_count": null,
      "outputs": []
    },
    {
      "cell_type": "code",
      "source": [
        "is_one = (df1.SPI <= 2)\n",
        "\n",
        "is_one1 = df1[is_one].drop(['stnId', 'tm', 'stnNm', 'SPI'], axis = 1)\n",
        "\n",
        "is_one2 = is_one1.mean()\n",
        "\n",
        "is_one2"
      ],
      "metadata": {
        "id": "T7pfp09e2a-5"
      },
      "execution_count": null,
      "outputs": []
    },
    {
      "cell_type": "code",
      "source": [
        "other = (df1.SPI > 2)\n",
        "\n",
        "other1 = df1[other].drop(['stnId', 'tm', 'stnNm', 'SPI'], axis = 1)\n",
        "\n",
        "other2 = other1.mean()\n",
        "\n",
        "other2"
      ],
      "metadata": {
        "id": "G9MOZYVl4Z40"
      },
      "execution_count": null,
      "outputs": []
    },
    {
      "cell_type": "code",
      "source": [
        "train = df1.drop(['stnId', 'tm', 'stnNm'], axis = 1)\n",
        "test = df2.drop(['stnId', 'tm', 'stnNm'], axis = 1)"
      ],
      "metadata": {
        "id": "-wq0s0kmlXTA"
      },
      "execution_count": null,
      "outputs": []
    },
    {
      "cell_type": "code",
      "source": [
        "X_train = train.drop('SPI', axis = 1)\n",
        "y_train = train['SPI']\n",
        "X_test = test.drop('SPI', axis = 1)\n",
        "y_test = test['SPI']"
      ],
      "metadata": {
        "id": "PyWuTZU7o4yH"
      },
      "execution_count": null,
      "outputs": []
    },
    {
      "cell_type": "code",
      "source": [
        "from sklearn.model_selection import RandomizedSearchCV\n",
        "from sklearn.pipeline import Pipeline\n",
        "from sklearn.metrics import accuracy_score\n",
        "from sklearn.metrics import precision_score\n",
        "from sklearn.metrics import recall_score\n",
        "from sklearn.metrics import f1_score\n",
        "from sklearn.metrics import roc_auc_score\n",
        "from sklearn.preprocessing import StandardScaler\n",
        "from sklearn.ensemble import RandomForestClassifier\n",
        "from sklearn.feature_selection import RFE\n",
        "from sklearn.preprocessing import MinMaxScaler\n",
        "from sklearn.preprocessing import OneHotEncoder"
      ],
      "metadata": {
        "id": "4nIpr19fpCKR"
      },
      "execution_count": null,
      "outputs": []
    },
    {
      "cell_type": "code",
      "source": [
        "sc = StandardScaler()"
      ],
      "metadata": {
        "id": "jClct5GzpRx9"
      },
      "execution_count": null,
      "outputs": []
    },
    {
      "cell_type": "code",
      "source": [
        "mc = MinMaxScaler()"
      ],
      "metadata": {
        "id": "FFzzB7Wbmy1x"
      },
      "execution_count": null,
      "outputs": []
    },
    {
      "cell_type": "code",
      "source": [
        "oneh = OneHotEncoder()"
      ],
      "metadata": {
        "id": "CbMkRUIBsGj0"
      },
      "execution_count": null,
      "outputs": []
    },
    {
      "cell_type": "code",
      "source": [
        "X_train_sc = sc.fit_transform(X_train)\n",
        "X_test_sc = sc.fit_transform(X_test)"
      ],
      "metadata": {
        "id": "MgA7lKyspjBE"
      },
      "execution_count": null,
      "outputs": []
    },
    {
      "cell_type": "code",
      "source": [
        "X_train_mc = mc.fit_transform(X_train)\n",
        "X_test_mc = mc.fit_transform(X_test)"
      ],
      "metadata": {
        "id": "8L8ak5EanBZt"
      },
      "execution_count": null,
      "outputs": []
    },
    {
      "cell_type": "code",
      "source": [
        "from imblearn.over_sampling import SMOTE\n",
        "\n",
        "smote = SMOTE(random_state=42)\n",
        "X_train_over, y_train_over = smote.fit_resample(X_train_mc, y_train)\n",
        "print(\"SMOTE 적용 전 학습용 피처/레이블 데이터 세트 : \", X_train.shape, y_train.shape)\n",
        "print('SMOTE 적용 후 학습용 피처/레이블 데이터 세트 :', X_train_over.shape, y_train_over.shape)\n",
        "print('SMOTE 적용 후 값의 분포 :\\n',pd.Series(y_train_over).value_counts())"
      ],
      "metadata": {
        "id": "egf9_E2t-aTA"
      },
      "execution_count": null,
      "outputs": []
    },
    {
      "cell_type": "code",
      "source": [
        "clf = RandomForestClassifier(n_estimators = 100, max_depth = 10, random_state = 0)\n",
        "clf.fit(X_train_over, y_train_over)"
      ],
      "metadata": {
        "id": "d9TQuXjApj4S"
      },
      "execution_count": null,
      "outputs": []
    },
    {
      "cell_type": "code",
      "source": [
        "predict1 = clf.predict(X_test_mc)\n",
        "print(accuracy_score(y_test, predict1))"
      ],
      "metadata": {
        "id": "ZSQQoUFNqj1J"
      },
      "execution_count": null,
      "outputs": []
    },
    {
      "cell_type": "code",
      "source": [
        "from sklearn.metrics import confusion_matrix, plot_confusion_matrix\n",
        "import matplotlib.pyplot as plt\n",
        "\n",
        "label = [0, 1, 2, 3, 4, 5, 6, 7]\n",
        "plot = plot_confusion_matrix(clf,\n",
        "                             X_test_mc, y_test,\n",
        "                             display_labels = label,\n",
        "                             normalize = None)\n",
        "plot.ax_.set_title('Confusion Matrix')"
      ],
      "metadata": {
        "id": "bhHppSOoBgw7"
      },
      "execution_count": null,
      "outputs": []
    },
    {
      "cell_type": "code",
      "source": [
        "new_range = {'SPI' : {0 : 0, 1 : 0 , 2: 1, 3 : 1, 4 : 1, 5 : 1, 6 : 1, 7 : 1}}\n",
        "\n",
        "df3 = df1.replace(new_range)\n",
        "\n",
        "df4 = df2.replace(new_range)"
      ],
      "metadata": {
        "id": "hRU_dxhGCM4J"
      },
      "execution_count": null,
      "outputs": []
    },
    {
      "cell_type": "code",
      "source": [
        "df4"
      ],
      "metadata": {
        "id": "JPAtT65LDzPM"
      },
      "execution_count": null,
      "outputs": []
    },
    {
      "cell_type": "code",
      "source": [
        "train1 = df3.drop(['stnId', 'tm', 'stnNm'], axis = 1)\n",
        "test1 = df4.drop(['stnId', 'tm', 'stnNm'], axis = 1)"
      ],
      "metadata": {
        "id": "3Dc7hytmEn4k"
      },
      "execution_count": null,
      "outputs": []
    },
    {
      "cell_type": "code",
      "source": [
        "X_train1 = train1.drop('SPI', axis = 1)\n",
        "y_train1 = train1['SPI']\n",
        "X_test1 = test1.drop('SPI', axis = 1)\n",
        "y_test1 = test1['SPI']"
      ],
      "metadata": {
        "id": "Zn51Qs9UEysn"
      },
      "execution_count": null,
      "outputs": []
    },
    {
      "cell_type": "code",
      "source": [
        "X_train_sc1 = sc.fit_transform(X_train1)\n",
        "X_test_sc1 = sc.fit_transform(X_test1)"
      ],
      "metadata": {
        "id": "ZAomyLjjE4Cb"
      },
      "execution_count": null,
      "outputs": []
    },
    {
      "cell_type": "code",
      "source": [
        "X_train_mc1 = mc.fit_transform(X_train1)\n",
        "X_test_mc1 = mc.fit_transform(X_test1)"
      ],
      "metadata": {
        "id": "54JMa_hkFB4R"
      },
      "execution_count": null,
      "outputs": []
    },
    {
      "cell_type": "code",
      "source": [
        "smote = SMOTE(random_state = 42)\n",
        "X_train_over1, y_train_over1 = smote.fit_resample(X_train_mc1, y_train1)\n",
        "print(\"SMOTE 적용 전 학습용 피처/레이블 데이터 세트 : \", X_train_mc.shape, y_train.shape)\n",
        "print('SMOTE 적용 후 학습용 피처/레이블 데이터 세트 :', X_train_over1.shape, y_train_over1.shape)\n",
        "print('SMOTE 적용 후 값의 분포 :\\n',pd.Series(y_train_over1).value_counts())"
      ],
      "metadata": {
        "id": "evWMKgRXFHMg"
      },
      "execution_count": null,
      "outputs": []
    },
    {
      "cell_type": "code",
      "source": [
        "clf1 = RandomForestClassifier(n_estimators = 100, max_depth = 10, random_state = 42)\n",
        "clf1.fit(X_train_over1, y_train_over1)"
      ],
      "metadata": {
        "id": "yUYZVQLdF3LT"
      },
      "execution_count": null,
      "outputs": []
    },
    {
      "cell_type": "code",
      "source": [
        "predict2 = clf1.predict(X_test_mc1)\n",
        "print(accuracy_score(y_test1, predict2))"
      ],
      "metadata": {
        "id": "Gnl-fOC8GoMo"
      },
      "execution_count": null,
      "outputs": []
    },
    {
      "cell_type": "code",
      "source": [
        "clf2 = RandomForestClassifier(n_estimators = 100, max_depth = 10, random_state = 42)\n",
        "clf2.fit(X_train_sc1, y_train1)"
      ],
      "metadata": {
        "id": "JP_R25WWF-Nk"
      },
      "execution_count": null,
      "outputs": []
    },
    {
      "cell_type": "code",
      "source": [
        "predict3 = clf2.predict(X_test_sc1)\n",
        "print(accuracy_score(y_test1, predict3))"
      ],
      "metadata": {
        "id": "rmMXLX-EG0ea"
      },
      "execution_count": null,
      "outputs": []
    },
    {
      "cell_type": "code",
      "source": [
        "clf3 = RandomForestClassifier(n_estimators = 100, max_depth = 10, random_state = 42)\n",
        "clf3.fit(X_train_mc1, y_train1)"
      ],
      "metadata": {
        "id": "pTJRaqyGGNsC"
      },
      "execution_count": null,
      "outputs": []
    },
    {
      "cell_type": "code",
      "source": [
        "predict4 = clf3.predict(X_test_mc1)\n",
        "print(accuracy_score(y_test1, predict4))"
      ],
      "metadata": {
        "id": "vdMX8h-EHHvn"
      },
      "execution_count": null,
      "outputs": []
    },
    {
      "cell_type": "code",
      "source": [
        "clf4 = RandomForestClassifier(n_estimators = 100, max_depth = 10, random_state = 42)\n",
        "clf4.fit(X_train1, y_train1)"
      ],
      "metadata": {
        "id": "BO12sIQWGXmI"
      },
      "execution_count": null,
      "outputs": []
    },
    {
      "cell_type": "code",
      "source": [
        "predict5 = clf4.predict(X_test1)\n",
        "print(accuracy_score(y_test1, predict5))"
      ],
      "metadata": {
        "id": "-KfJ9DILHPeJ"
      },
      "execution_count": null,
      "outputs": []
    },
    {
      "cell_type": "code",
      "source": [
        "from sklearn.metrics import classification_report\n",
        "\n",
        "print(classification_report(y_test1, predict2))\n",
        "\n",
        "print(classification_report(y_test1, predict3))\n",
        "\n",
        "print(classification_report(y_test1, predict4))\n",
        "\n",
        "print(classification_report(y_test1, predict5))"
      ],
      "metadata": {
        "id": "NcHU_O21H1zl"
      },
      "execution_count": null,
      "outputs": []
    },
    {
      "cell_type": "code",
      "source": [
        "new_range1 = {'SPI' : {0 : 0, 1 : 0 , 2: 0, 3 : 1, 4 : 1, 5 : 1, 6 : 1, 7 : 1}}\n",
        "\n",
        "df5 = df1.replace(new_range1)\n",
        "\n",
        "df6 = df2.replace(new_range1)"
      ],
      "metadata": {
        "id": "lfZ5fSCGI7mW"
      },
      "execution_count": null,
      "outputs": []
    },
    {
      "cell_type": "code",
      "source": [
        "df5['SPI'].value_counts()"
      ],
      "metadata": {
        "id": "PSwjFit_LbL6"
      },
      "execution_count": null,
      "outputs": []
    },
    {
      "cell_type": "code",
      "source": [
        "train2 = df5.drop(['stnId', 'tm', 'stnNm'], axis = 1)\n",
        "test2 = df6.drop(['stnId', 'tm', 'stnNm'], axis = 1)"
      ],
      "metadata": {
        "id": "sN1NvEFqLgYY"
      },
      "execution_count": null,
      "outputs": []
    },
    {
      "cell_type": "code",
      "source": [
        "X_train2 = train2.drop('SPI', axis = 1)\n",
        "y_train2 = train2['SPI']\n",
        "X_test2 = test2.drop('SPI', axis = 1)\n",
        "y_test2 = test2['SPI']"
      ],
      "metadata": {
        "id": "hvX-NhkcLlML"
      },
      "execution_count": null,
      "outputs": []
    },
    {
      "cell_type": "code",
      "source": [
        "X_train_sc2 = sc.fit_transform(X_train2)\n",
        "X_test_sc2 = sc.fit_transform(X_test2)"
      ],
      "metadata": {
        "id": "bCOLdfYjLrGW"
      },
      "execution_count": null,
      "outputs": []
    },
    {
      "cell_type": "code",
      "source": [
        "X_train_mc2 = mc.fit_transform(X_train2)\n",
        "X_test_mc2 = mc.fit_transform(X_test2)"
      ],
      "metadata": {
        "id": "x_1hzHnLLwAZ"
      },
      "execution_count": null,
      "outputs": []
    },
    {
      "cell_type": "code",
      "source": [
        "smote = SMOTE(random_state = 42)\n",
        "X_train_over2, y_train_over2 = smote.fit_resample(X_train_mc2, y_train2)\n",
        "print(\"SMOTE 적용 전 학습용 피처/레이블 데이터 세트 : \", X_train_mc2.shape, y_train.shape)\n",
        "print('SMOTE 적용 후 학습용 피처/레이블 데이터 세트 :', X_train_over2.shape, y_train_over2.shape)\n",
        "print('SMOTE 적용 후 값의 분포 :\\n',pd.Series(y_train_over2).value_counts())"
      ],
      "metadata": {
        "id": "WoUTuFLCL1GV"
      },
      "execution_count": null,
      "outputs": []
    },
    {
      "cell_type": "code",
      "source": [
        "clf6 = RandomForestClassifier(n_estimators = 100, max_depth = 10, random_state = 42)\n",
        "clf6.fit(X_train2, y_train2)"
      ],
      "metadata": {
        "id": "ir2WAYG7MDVO"
      },
      "execution_count": null,
      "outputs": []
    },
    {
      "cell_type": "code",
      "source": [
        "predict6 = clf6.predict(X_test2)\n",
        "print(accuracy_score(y_test2, predict6))"
      ],
      "metadata": {
        "id": "sJSMOt5rMPHX"
      },
      "execution_count": null,
      "outputs": []
    },
    {
      "cell_type": "code",
      "source": [
        "print(classification_report(y_test2, predict6))"
      ],
      "metadata": {
        "id": "joisQBD-MZn0"
      },
      "execution_count": null,
      "outputs": []
    },
    {
      "cell_type": "code",
      "source": [
        "y_train2.value_counts()"
      ],
      "metadata": {
        "id": "P-0TN11rMpua"
      },
      "execution_count": null,
      "outputs": []
    },
    {
      "cell_type": "code",
      "source": [
        "df1['SPI'].value_counts()"
      ],
      "metadata": {
        "id": "397J7SJ4M-ZX"
      },
      "execution_count": null,
      "outputs": []
    },
    {
      "cell_type": "code",
      "source": [
        "data3 = df1['SPI'] == 3\n",
        "data13 = df1[data3]\n",
        "data13 = data13.sample(n = 10000)\n",
        "\n",
        "data4 = df1['SPI'] == 4\n",
        "data14 = df1[data4]\n",
        "data14 = data14.sample(n = 10000)\n",
        "\n",
        "data5 = df1['SPI'] == 5\n",
        "data15 = df1[data5]\n",
        "data15 = data15.sample(n = 4000)\n",
        "\n",
        "data2 = df1['SPI'] <= 2\n",
        "data12 = df1[data2]\n",
        "\n",
        "data6 = df1['SPI'] >= 6\n",
        "data16 = df1[data6]\n",
        "\n",
        "data_all = pd.concat([data12, data13, data14, data15, data16], ignore_index = True)\n",
        "\n",
        "data_all"
      ],
      "metadata": {
        "id": "Feqwz5WpOApo"
      },
      "execution_count": null,
      "outputs": []
    },
    {
      "cell_type": "code",
      "source": [
        "new_range11 = {'SPI' : {0 : 0, 1 : 0 , 2: 0, 3 : 1, 4 : 1, 5 : 1, 6 : 1, 7 : 1}}\n",
        "\n",
        "df7 = data_all.replace(new_range11)\n",
        "\n",
        "df8 = df2.replace(new_range11)"
      ],
      "metadata": {
        "id": "kOqvNB9XSB_j"
      },
      "execution_count": null,
      "outputs": []
    },
    {
      "cell_type": "code",
      "source": [
        "df7['SPI'].value_counts()"
      ],
      "metadata": {
        "id": "Dpaku6xPSzJM"
      },
      "execution_count": null,
      "outputs": []
    },
    {
      "cell_type": "code",
      "source": [
        "train3 = df7.drop(['stnId', 'tm', 'stnNm'], axis = 1)\n",
        "test3 = df8.drop(['stnId', 'tm', 'stnNm'], axis = 1)"
      ],
      "metadata": {
        "id": "pBdXRh5wTBRW"
      },
      "execution_count": null,
      "outputs": []
    },
    {
      "cell_type": "code",
      "source": [
        "X_train3 = train3.drop('SPI', axis = 1)\n",
        "y_train3 = train3['SPI']\n",
        "X_test3 = test3.drop('SPI', axis = 1)\n",
        "y_test3 = test3['SPI']"
      ],
      "metadata": {
        "id": "PFXb_e-ETYBU"
      },
      "execution_count": null,
      "outputs": []
    },
    {
      "cell_type": "code",
      "source": [
        "clf7 = RandomForestClassifier(n_estimators = 100, max_depth = 10, random_state = 42)\n",
        "clf7.fit(X_train3, y_train3)"
      ],
      "metadata": {
        "id": "neCtQLigTbcn"
      },
      "execution_count": null,
      "outputs": []
    },
    {
      "cell_type": "code",
      "source": [
        "predict7 = clf7.predict(X_test3)\n",
        "print(accuracy_score(y_test3, predict7))"
      ],
      "metadata": {
        "id": "Dtc-qW2TTp1_"
      },
      "execution_count": null,
      "outputs": []
    },
    {
      "cell_type": "code",
      "source": [
        "print(classification_report(y_test3, predict7))"
      ],
      "metadata": {
        "id": "d7TstYMFTvst"
      },
      "execution_count": null,
      "outputs": []
    },
    {
      "cell_type": "code",
      "source": [
        "X_train_sc3 = sc.fit_transform(X_train3)\n",
        "X_test_sc3 = sc.fit_transform(X_test3)"
      ],
      "metadata": {
        "id": "3SOSvJbGT3u5"
      },
      "execution_count": null,
      "outputs": []
    },
    {
      "cell_type": "code",
      "source": [
        "clf8 = RandomForestClassifier(n_estimators = 100, max_depth = 10, random_state = 42)\n",
        "clf8.fit(X_train_sc3, y_train3)"
      ],
      "metadata": {
        "id": "8QIyXccCUDlA"
      },
      "execution_count": null,
      "outputs": []
    },
    {
      "cell_type": "code",
      "source": [
        "predict8 = clf8.predict(X_test_sc3)\n",
        "print(accuracy_score(y_test3, predict8))"
      ],
      "metadata": {
        "id": "gglCrFpZUIyL"
      },
      "execution_count": null,
      "outputs": []
    },
    {
      "cell_type": "code",
      "source": [
        "print(classification_report(y_test3, predict8))"
      ],
      "metadata": {
        "id": "FfOCXseGUOS1"
      },
      "execution_count": null,
      "outputs": []
    },
    {
      "cell_type": "code",
      "source": [
        "X_train_mc3 = mc.fit_transform(X_train3)\n",
        "X_test_mc3 = mc.fit_transform(X_test3)"
      ],
      "metadata": {
        "id": "GpORuNw2UU3j"
      },
      "execution_count": null,
      "outputs": []
    },
    {
      "cell_type": "code",
      "source": [
        "clf9 = RandomForestClassifier(n_estimators = 100, max_depth = 10, random_state = 42)\n",
        "clf9.fit(X_train_mc3, y_train3)"
      ],
      "metadata": {
        "id": "uyoH8WeRUaN4"
      },
      "execution_count": null,
      "outputs": []
    },
    {
      "cell_type": "code",
      "source": [
        "predict9 = clf9.predict(X_test_mc3)\n",
        "print(accuracy_score(y_test3, predict9))"
      ],
      "metadata": {
        "id": "hDYMejZhUf8f"
      },
      "execution_count": null,
      "outputs": []
    },
    {
      "cell_type": "code",
      "source": [
        "print(classification_report(y_test3, predict9))"
      ],
      "metadata": {
        "id": "zz1PM7uVUqfr"
      },
      "execution_count": null,
      "outputs": []
    }
  ]
}