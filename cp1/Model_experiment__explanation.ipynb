{
  "nbformat": 4,
  "nbformat_minor": 0,
  "metadata": {
    "colab": {
      "provenance": [],
      "collapsed_sections": []
    },
    "kernelspec": {
      "name": "python3",
      "display_name": "Python 3"
    },
    "language_info": {
      "name": "python"
    },
    "gpuClass": "standard"
  },
  "cells": [
    {
      "cell_type": "code",
      "execution_count": 1,
      "metadata": {
        "colab": {
          "base_uri": "https://localhost:8080/"
        },
        "id": "7WC_cWbC-Olt",
        "outputId": "691d9739-7d6c-4862-de81-d3ee2afa8c7a"
      },
      "outputs": [
        {
          "output_type": "stream",
          "name": "stdout",
          "text": [
            "Mounted at /content/gdrive\n"
          ]
        }
      ],
      "source": [
        "from google.colab import drive\n",
        "drive.mount('/content/gdrive')"
      ]
    },
    {
      "cell_type": "code",
      "source": [
        "import pandas as pd\n",
        "from sklearn.model_selection import RandomizedSearchCV\n",
        "from sklearn.pipeline import Pipeline\n",
        "from sklearn.metrics import accuracy_score\n",
        "from sklearn.metrics import precision_score\n",
        "from sklearn.metrics import recall_score\n",
        "from sklearn.metrics import f1_score\n",
        "from sklearn.metrics import roc_auc_score\n",
        "from sklearn.preprocessing import StandardScaler\n",
        "from sklearn.ensemble import RandomForestClassifier\n",
        "from sklearn.feature_selection import RFE\n",
        "from sklearn.preprocessing import MinMaxScaler\n",
        "from sklearn.preprocessing import OneHotEncoder\n",
        "from sklearn.metrics import classification_report\n",
        "from sklearn.metrics import confusion_matrix, plot_confusion_matrix\n",
        "import matplotlib.pyplot as plt\n",
        "from imblearn.over_sampling import SMOTE\n",
        "import numpy as np"
      ],
      "metadata": {
        "id": "gW-5moUh-S1W"
      },
      "execution_count": 33,
      "outputs": []
    },
    {
      "cell_type": "code",
      "source": [
        "df1 = pd.read_csv('/content/gdrive/MyDrive/ASOS/CSV/TRAIN.csv', encoding = 'UTF-8')\n",
        "df2 = pd.read_csv('/content/gdrive/MyDrive/ASOS/CSV/TEST.csv', encoding = 'UTF-8')"
      ],
      "metadata": {
        "id": "V55jfI7Q-bAl"
      },
      "execution_count": 66,
      "outputs": []
    },
    {
      "cell_type": "markdown",
      "source": [
        "# 다운 샘플링을 진행\n",
        "\n",
        "기존 SMOTE를 사용한 경우와 다중분류 모델의 경우에 성능이 좋지 못했기 때문에 가장 좋은 성능을 뽑아 낼 수 있었던 다운샘플링 방식과 라벨을 새로 지정한 이진분류 모델의 형태를 만들기위한 전처리 진행"
      ],
      "metadata": {
        "id": "M9iT2pBKWBSW"
      }
    },
    {
      "cell_type": "code",
      "source": [
        "data3 = df1['SPI'] == 3\n",
        "data13 = df1[data3]\n",
        "data13 = data13.sample(n = 10000)\n",
        "\n",
        "data4 = df1['SPI'] == 4\n",
        "data14 = df1[data4]\n",
        "data14 = data14.sample(n = 10000)\n",
        "\n",
        "data5 = df1['SPI'] == 5\n",
        "data15 = df1[data5]\n",
        "data15 = data15.sample(n = 4000)\n",
        "\n",
        "data2 = df1['SPI'] <= 2\n",
        "data12 = df1[data2]\n",
        "\n",
        "data6 = df1['SPI'] >= 6\n",
        "data16 = df1[data6]\n",
        "\n",
        "data_all = pd.concat([data12, data13, data14, data15, data16], ignore_index = True)\n",
        "\n",
        "new_range11 = {'SPI' : {0 : 0, 1 : 0 , 2: 0, 3 : 1, 4 : 1, 5 : 1, 6 : 1, 7 : 1}}\n",
        "\n",
        "df7 = data_all.replace(new_range11)\n",
        "\n",
        "df8 = df2.replace(new_range11)"
      ],
      "metadata": {
        "id": "ZhCFFpil-dx1"
      },
      "execution_count": 67,
      "outputs": []
    },
    {
      "cell_type": "code",
      "source": [
        "df1.columns"
      ],
      "metadata": {
        "colab": {
          "base_uri": "https://localhost:8080/"
        },
        "id": "2XIiKANeAtBr",
        "outputId": "6c6374a9-e0f7-4feb-8990-a95254f9ff3d"
      },
      "execution_count": 68,
      "outputs": [
        {
          "output_type": "execute_result",
          "data": {
            "text/plain": [
              "Index(['stnId', 'tm', 'stnNm', 'avgTa', 'minTa', 'maxTa', 'sumRn', 'avgWs',\n",
              "       'avgTd', 'avgRhm', 'avgPa', 'avgTs', 'SPI'],\n",
              "      dtype='object')"
            ]
          },
          "metadata": {},
          "execution_count": 68
        }
      ]
    },
    {
      "cell_type": "markdown",
      "source": [
        "# COLUMN 세부 내용\n",
        "\n",
        "1. avgTa : 평균온도\n",
        "2. minTa : 최저온도\n",
        "3. maxTa : 최고온도\n",
        "4. sumRn : 일강수량\n",
        "5. avgWs : 평균풍속\n",
        "6. avgTd : 평균 이슬점온도\n",
        "7. avgRhm : 평균 상대습도\n",
        "8. avgPa : 평균 현지기압\n",
        "9. avgTs : 평균 지면온도\n",
        "10. SPI : 가뭄지수"
      ],
      "metadata": {
        "id": "TGKP4jvDB0cM"
      }
    },
    {
      "cell_type": "code",
      "source": [
        "train = df7.drop(['stnId', 'tm', 'stnNm'], axis = 1)\n",
        "test = df8.drop(['stnId', 'tm', 'stnNm'], axis = 1)"
      ],
      "metadata": {
        "id": "UuYIIkV8-tsl"
      },
      "execution_count": 69,
      "outputs": []
    },
    {
      "cell_type": "code",
      "source": [
        "X_train = train.drop('SPI', axis = 1)\n",
        "y_train = train['SPI']\n",
        "X_test = test.drop('SPI', axis = 1)\n",
        "y_test = test['SPI']"
      ],
      "metadata": {
        "id": "QkynUfDn-va2"
      },
      "execution_count": 70,
      "outputs": []
    },
    {
      "cell_type": "code",
      "source": [
        "sc = StandardScaler()"
      ],
      "metadata": {
        "id": "c6YMj8eW-1zD"
      },
      "execution_count": 71,
      "outputs": []
    },
    {
      "cell_type": "code",
      "source": [
        "X_train_sc = sc.fit_transform(X_train)\n",
        "X_test_sc = sc.fit_transform(X_test)"
      ],
      "metadata": {
        "id": "0zznbhO2_NeL"
      },
      "execution_count": 72,
      "outputs": []
    },
    {
      "cell_type": "code",
      "source": [
        "clf = RandomForestClassifier(n_estimators = 100, max_depth = 10, random_state = 42)\n",
        "clf.fit(X_train_sc, y_train)"
      ],
      "metadata": {
        "colab": {
          "base_uri": "https://localhost:8080/"
        },
        "id": "22dBvF6Q_HfN",
        "outputId": "ad170358-f0f4-45e4-cb63-bac0e708b93c"
      },
      "execution_count": 137,
      "outputs": [
        {
          "output_type": "execute_result",
          "data": {
            "text/plain": [
              "RandomForestClassifier(max_depth=10, random_state=42)"
            ]
          },
          "metadata": {},
          "execution_count": 137
        }
      ]
    },
    {
      "cell_type": "code",
      "source": [
        "predict = clf.predict(X_test_sc)\n",
        "print(accuracy_score(y_test, predict))"
      ],
      "metadata": {
        "colab": {
          "base_uri": "https://localhost:8080/"
        },
        "id": "HVuJd3yG_Uav",
        "outputId": "da4bdc7b-0f68-420e-827a-945bbc45f140"
      },
      "execution_count": 138,
      "outputs": [
        {
          "output_type": "stream",
          "name": "stdout",
          "text": [
            "0.7508951137320977\n"
          ]
        }
      ]
    },
    {
      "cell_type": "code",
      "source": [
        "print(classification_report(y_test, predict))"
      ],
      "metadata": {
        "colab": {
          "base_uri": "https://localhost:8080/"
        },
        "id": "c8byUpXK_f-Q",
        "outputId": "c8873a50-5fd4-4962-c349-d1f2fe35c12e"
      },
      "execution_count": 140,
      "outputs": [
        {
          "output_type": "stream",
          "name": "stdout",
          "text": [
            "              precision    recall  f1-score   support\n",
            "\n",
            "           0       0.21      0.33      0.25      2431\n",
            "           1       0.89      0.81      0.85     16561\n",
            "\n",
            "    accuracy                           0.75     18992\n",
            "   macro avg       0.55      0.57      0.55     18992\n",
            "weighted avg       0.80      0.75      0.77     18992\n",
            "\n"
          ]
        }
      ]
    },
    {
      "cell_type": "markdown",
      "source": [
        "위 처럼 precision 에서 0의 값이 0.21이 되는 이유는 타겟 값 0과 1 값에 대한 분포된 항목 수가 차이가 크기 때문이다."
      ],
      "metadata": {
        "id": "tAuJ9q0AXG-4"
      }
    },
    {
      "cell_type": "code",
      "source": [
        "importances = pd.Series(clf.feature_importances_, X_train.columns)\n",
        "\n",
        "%matplotlib inline\n",
        "import matplotlib.pyplot as plt\n",
        "\n",
        "n = 10\n",
        "plt.figure(figsize=(10, n/2))\n",
        "plt.title(f'Top {n} features')\n",
        "importances.sort_values()[-n:].plot.barh()"
      ],
      "metadata": {
        "colab": {
          "base_uri": "https://localhost:8080/",
          "height": 354
        },
        "id": "90UbO0POEJkA",
        "outputId": "8fd6fa10-1cee-440a-e00a-76b412921001"
      },
      "execution_count": 141,
      "outputs": [
        {
          "output_type": "execute_result",
          "data": {
            "text/plain": [
              "<matplotlib.axes._subplots.AxesSubplot at 0x7fd035413c90>"
            ]
          },
          "metadata": {},
          "execution_count": 141
        },
        {
          "output_type": "display_data",
          "data": {
            "text/plain": [
              "<Figure size 720x360 with 1 Axes>"
            ],
            "image/png": "[encoded data removed]"
          },
          "metadata": {
            "needs_background": "light"
          }
        }
      ]
    },
    {
      "cell_type": "markdown",
      "source": [
        "특성 중요도에 대한 결과를 보고 모델링 전처리 부분을 재 확립하려 했으나 큰 차이가 없으며 현재 데이터에서 뺄 필요가 없다고 판단하게 됨"
      ],
      "metadata": {
        "id": "XlBWDP1FWxQg"
      }
    },
    {
      "cell_type": "code",
      "source": [
        "from sklearn.metrics import confusion_matrix, plot_confusion_matrix\n",
        "import matplotlib.pyplot as plt\n",
        "\n",
        "label = [0, 1]\n",
        "plot = plot_confusion_matrix(clf,\n",
        "                             X_test_sc, y_test,\n",
        "                             display_labels = label,\n",
        "                             normalize = None)\n",
        "plot.ax_.set_title('Confusion Matrix')"
      ],
      "metadata": {
        "colab": {
          "base_uri": "https://localhost:8080/",
          "height": 369
        },
        "id": "rhrKMwEYHzcb",
        "outputId": "e0bad8c2-897b-4693-c015-e055f77739b2"
      },
      "execution_count": 142,
      "outputs": [
        {
          "output_type": "stream",
          "name": "stderr",
          "text": [
            "/usr/local/lib/python3.7/dist-packages/sklearn/utils/deprecation.py:87: FutureWarning: Function plot_confusion_matrix is deprecated; Function `plot_confusion_matrix` is deprecated in 1.0 and will be removed in 1.2. Use one of the class methods: ConfusionMatrixDisplay.from_predictions or ConfusionMatrixDisplay.from_estimator.\n",
            "  warnings.warn(msg, category=FutureWarning)\n"
          ]
        },
        {
          "output_type": "execute_result",
          "data": {
            "text/plain": [
              "Text(0.5, 1.0, 'Confusion Matrix')"
            ]
          },
          "metadata": {},
          "execution_count": 142
        },
        {
          "output_type": "display_data",
          "data": {
            "text/plain": [
              "<Figure size 432x288 with 2 Axes>"
            ],
            "image/png": "[encoded data removed]"
          },
          "metadata": {
            "needs_background": "light"
          }
        }
      ]
    },
    {
      "cell_type": "markdown",
      "source": [
        "위 경우처럼 Confusion Matrix 를 진행한 결과 현재 가뭄의 상태인 0 값을 진짜 0으로 판단한 값과 1값으로 판단한 결과의 비율이 1 : 2 정도의 형태를 보이는데, 그렇기에 가뭄평가에 대한 정확한 성능은 35% 정도의 성능을 보인다고 볼 수 있으나, 가뭄이 아닌 상태에 대한 평가 성능은 오히려 80% 이상의 평가를 보인다."
      ],
      "metadata": {
        "id": "qgBcDo1GXYHj"
      }
    },
    {
      "cell_type": "markdown",
      "source": [
        "# 임계치 조절을 통한 분석"
      ],
      "metadata": {
        "id": "I6RsidLyXxml"
      }
    },
    {
      "cell_type": "code",
      "source": [
        "predict_prob = clf.predict_proba(X_test_sc)[:, 1]"
      ],
      "metadata": {
        "id": "3zrOwg4FH76P"
      },
      "execution_count": 143,
      "outputs": []
    },
    {
      "cell_type": "code",
      "source": [
        "threshold = 0.46\n",
        "\n",
        "prediction = predict_prob > threshold\n",
        "\n",
        "print(classification_report(y_test, prediction))"
      ],
      "metadata": {
        "colab": {
          "base_uri": "https://localhost:8080/"
        },
        "id": "hiyo_gYKKk3d",
        "outputId": "6f90e749-30df-4008-8012-3af7c70c2a26"
      },
      "execution_count": 150,
      "outputs": [
        {
          "output_type": "stream",
          "name": "stdout",
          "text": [
            "              precision    recall  f1-score   support\n",
            "\n",
            "           0       0.24      0.24      0.24      2431\n",
            "           1       0.89      0.89      0.89     16561\n",
            "\n",
            "    accuracy                           0.81     18992\n",
            "   macro avg       0.57      0.57      0.57     18992\n",
            "weighted avg       0.81      0.81      0.81     18992\n",
            "\n"
          ]
        }
      ]
    },
    {
      "cell_type": "code",
      "source": [
        "confusion_matrix(y_test, prediction)"
      ],
      "metadata": {
        "colab": {
          "base_uri": "https://localhost:8080/"
        },
        "id": "HPXTPeltptFC",
        "outputId": "e046d3f8-072d-4758-f238-a0306a7a7b91"
      },
      "execution_count": 151,
      "outputs": [
        {
          "output_type": "execute_result",
          "data": {
            "text/plain": [
              "array([[  594,  1837],\n",
              "       [ 1857, 14704]])"
            ]
          },
          "metadata": {},
          "execution_count": 151
        }
      ]
    },
    {
      "cell_type": "markdown",
      "source": [
        "이처럼 나타나는데, 이 경우에는 가뭄 평가에 대한 성능은 올라갈 지 모르지만 가뭄이 아닌 상태에 대한 평가가 굉장히 낮게 평가된다.\n",
        "\n",
        "이런 형태에 있어서 가뭄에 대한 평가 성능을 올린다고 억지로 임계치를 조절할 경우 역으로 서비스 과정에서 가뭄이 아닌 습한 상태의 지면에 물을 더 뿌려야 한다는 정보를 제공한다는 등의 역으로 안좋은 서비스를 제공할 가능성이 높아지기 때문에 임계치에 대한 강제적 성능 향상의 경우는 옳지 못한 방향이라고 판단된다."
      ],
      "metadata": {
        "id": "Xf6oEK5eX1zD"
      }
    },
    {
      "cell_type": "code",
      "source": [
        "clf1 = RandomForestClassifier(random_state = 42)\n",
        "clf1.fit(X_train_sc, y_train)"
      ],
      "metadata": {
        "colab": {
          "base_uri": "https://localhost:8080/"
        },
        "id": "3UPmtr1ifR2N",
        "outputId": "977f0d93-bdc8-47aa-c329-67089fde8f88"
      },
      "execution_count": 111,
      "outputs": [
        {
          "output_type": "execute_result",
          "data": {
            "text/plain": [
              "RandomForestClassifier(random_state=42)"
            ]
          },
          "metadata": {},
          "execution_count": 111
        }
      ]
    },
    {
      "cell_type": "code",
      "source": [
        "predict1 = clf1.predict(X_test_sc)\n",
        "print(accuracy_score(y_test, predict1))"
      ],
      "metadata": {
        "colab": {
          "base_uri": "https://localhost:8080/"
        },
        "id": "6fBtdmmXflD8",
        "outputId": "fdb906c0-5a57-4f79-aad5-244b0a93f548"
      },
      "execution_count": 112,
      "outputs": [
        {
          "output_type": "stream",
          "name": "stdout",
          "text": [
            "0.6526958719460826\n"
          ]
        }
      ]
    },
    {
      "cell_type": "code",
      "source": [
        "print(classification_report(y_test, predict1))"
      ],
      "metadata": {
        "colab": {
          "base_uri": "https://localhost:8080/"
        },
        "id": "wwbhPH1Qfy94",
        "outputId": "7b65a589-ccc4-407c-c590-8b536540a6d2"
      },
      "execution_count": 113,
      "outputs": [
        {
          "output_type": "stream",
          "name": "stdout",
          "text": [
            "              precision    recall  f1-score   support\n",
            "\n",
            "           0       0.17      0.44      0.25      2431\n",
            "           1       0.89      0.68      0.77     16561\n",
            "\n",
            "    accuracy                           0.65     18992\n",
            "   macro avg       0.53      0.56      0.51     18992\n",
            "weighted avg       0.80      0.65      0.71     18992\n",
            "\n"
          ]
        }
      ]
    },
    {
      "cell_type": "code",
      "source": [
        "dists = {\n",
        "    'max_depth' : [3,5,10,15],\n",
        "    'n_estimators' : [80, 100, 150, 200]\n",
        "}\n",
        "\n",
        "clf2= RandomizedSearchCV(\n",
        "    clf1,\n",
        "    param_distributions = dists,\n",
        "    n_iter = 50,\n",
        "    cv = 5,\n",
        "    scoring = 'f1',\n",
        "    verbose = 1,\n",
        "  )\n",
        "\n",
        "clf2.fit(X_train_sc, y_train)"
      ],
      "metadata": {
        "colab": {
          "base_uri": "https://localhost:8080/"
        },
        "id": "tPdnU6ymK4pl",
        "outputId": "3ca9bf65-1b81-40bb-fc21-9817a0d3673e"
      },
      "execution_count": 117,
      "outputs": [
        {
          "output_type": "stream",
          "name": "stderr",
          "text": [
            "/usr/local/lib/python3.7/dist-packages/sklearn/model_selection/_search.py:296: UserWarning: The total space of parameters 16 is smaller than n_iter=50. Running 16 iterations. For exhaustive searches, use GridSearchCV.\n",
            "  UserWarning,\n"
          ]
        },
        {
          "output_type": "stream",
          "name": "stdout",
          "text": [
            "Fitting 5 folds for each of 16 candidates, totalling 80 fits\n"
          ]
        },
        {
          "output_type": "execute_result",
          "data": {
            "text/plain": [
              "RandomizedSearchCV(cv=5, estimator=RandomForestClassifier(random_state=42),\n",
              "                   n_iter=50,\n",
              "                   param_distributions={'max_depth': [3, 5, 10, 15],\n",
              "                                        'n_estimators': [80, 100, 150, 200]},\n",
              "                   scoring='f1', verbose=1)"
            ]
          },
          "metadata": {},
          "execution_count": 117
        }
      ]
    },
    {
      "cell_type": "code",
      "source": [
        "predict2 = clf2.predict(X_test_sc)\n",
        "print(accuracy_score(y_test, predict2))"
      ],
      "metadata": {
        "colab": {
          "base_uri": "https://localhost:8080/"
        },
        "id": "NcGHxRkDTWew",
        "outputId": "77f149c7-fcc3-45b9-af88-2eb9a9b05ad1"
      },
      "execution_count": 118,
      "outputs": [
        {
          "output_type": "stream",
          "name": "stdout",
          "text": [
            "0.8225042122999158\n"
          ]
        }
      ]
    },
    {
      "cell_type": "code",
      "source": [
        "print(classification_report(y_test, predict2))"
      ],
      "metadata": {
        "colab": {
          "base_uri": "https://localhost:8080/"
        },
        "id": "6TYoQJSLnGIa",
        "outputId": "991a6a0b-8634-4b4f-9bf4-4b751ea0103e"
      },
      "execution_count": 119,
      "outputs": [
        {
          "output_type": "stream",
          "name": "stdout",
          "text": [
            "              precision    recall  f1-score   support\n",
            "\n",
            "           0       0.24      0.18      0.21      2431\n",
            "           1       0.88      0.92      0.90     16561\n",
            "\n",
            "    accuracy                           0.82     18992\n",
            "   macro avg       0.56      0.55      0.55     18992\n",
            "weighted avg       0.80      0.82      0.81     18992\n",
            "\n"
          ]
        }
      ]
    },
    {
      "cell_type": "code",
      "source": [
        "label = [0, 1]\n",
        "plot = plot_confusion_matrix(clf2,\n",
        "                             X_test_sc, y_test,\n",
        "                             display_labels = label,\n",
        "                             normalize = None)\n",
        "plot.ax_.set_title('Confusion Matrix')"
      ],
      "metadata": {
        "colab": {
          "base_uri": "https://localhost:8080/",
          "height": 369
        },
        "id": "EILQkG2tnZOd",
        "outputId": "3b6ca60a-1bed-4ea6-d2ca-eb682459e37f"
      },
      "execution_count": 120,
      "outputs": [
        {
          "output_type": "stream",
          "name": "stderr",
          "text": [
            "/usr/local/lib/python3.7/dist-packages/sklearn/utils/deprecation.py:87: FutureWarning: Function plot_confusion_matrix is deprecated; Function `plot_confusion_matrix` is deprecated in 1.0 and will be removed in 1.2. Use one of the class methods: ConfusionMatrixDisplay.from_predictions or ConfusionMatrixDisplay.from_estimator.\n",
            "  warnings.warn(msg, category=FutureWarning)\n"
          ]
        },
        {
          "output_type": "execute_result",
          "data": {
            "text/plain": [
              "Text(0.5, 1.0, 'Confusion Matrix')"
            ]
          },
          "metadata": {},
          "execution_count": 120
        },
        {
          "output_type": "display_data",
          "data": {
            "text/plain": [
              "<Figure size 432x288 with 2 Axes>"
            ],
            "image/png": "[encoded data removed]"
          },
          "metadata": {
            "needs_background": "light"
          }
        }
      ]
    },
    {
      "cell_type": "code",
      "source": [
        "predict_prob1 = clf2.predict_proba(X_test_sc)[:, 1]"
      ],
      "metadata": {
        "id": "7CRpX2qynzIT"
      },
      "execution_count": 122,
      "outputs": []
    },
    {
      "cell_type": "code",
      "source": [
        "threshold = 0.52\n",
        "\n",
        "prediction1 = predict_prob1 >= threshold\n",
        "\n",
        "print(classification_report(y_test, prediction1))"
      ],
      "metadata": {
        "colab": {
          "base_uri": "https://localhost:8080/"
        },
        "id": "mWWBGijsn0u1",
        "outputId": "66b73eb9-472c-4e63-bf69-4f8d87ce1a17"
      },
      "execution_count": 127,
      "outputs": [
        {
          "output_type": "stream",
          "name": "stdout",
          "text": [
            "              precision    recall  f1-score   support\n",
            "\n",
            "           0       0.20      0.20      0.20      2431\n",
            "           1       0.88      0.88      0.88     16561\n",
            "\n",
            "    accuracy                           0.79     18992\n",
            "   macro avg       0.54      0.54      0.54     18992\n",
            "weighted avg       0.79      0.79      0.79     18992\n",
            "\n"
          ]
        }
      ]
    },
    {
      "cell_type": "code",
      "source": [
        "confusion_matrix(y_test, prediction1)"
      ],
      "metadata": {
        "colab": {
          "base_uri": "https://localhost:8080/"
        },
        "id": "qHuYZsUaoLsV",
        "outputId": "bcfcd69b-5c62-47b1-b7e8-af1c8c8f8593"
      },
      "execution_count": 133,
      "outputs": [
        {
          "output_type": "execute_result",
          "data": {
            "text/plain": [
              "array([[  486,  1945],\n",
              "       [ 1965, 14596]])"
            ]
          },
          "metadata": {},
          "execution_count": 133
        }
      ]
    },
    {
      "cell_type": "markdown",
      "source": [
        "결과적으로 하이퍼파라미터 조절 후 진행한 결과에 대해서는 원래 기초 제작한 모델에 비해 성능이 좋다고 말할 수가 없다. 이는 가뭄예측에 대한 정확한 true 값과 predict 값에 대해 오히려 좋지 못한 결과를 보이기 때문이다. \n",
        "\n",
        "그 후 임계치 조절을 통한 최적 임계치를 찾아 냈지만, 이 역시 원래 기본 모델에 비해 많이 성능이 떨어진다고 볼 수가있다.\n",
        "\n",
        "그렇기 때문에 원래 사용한 기본모델을 사용한다."
      ],
      "metadata": {
        "id": "iSwUwB2gpG1c"
      }
    }
  ]
}